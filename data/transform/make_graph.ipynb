{
 "cells": [
  {
   "cell_type": "code",
   "execution_count": 24,
   "metadata": {},
   "outputs": [],
   "source": [
    "import json\n",
    "import numpy as np"
   ]
  },
  {
   "cell_type": "code",
   "execution_count": 73,
   "metadata": {},
   "outputs": [
    {
     "name": "stdout",
     "output_type": "stream",
     "text": [
      "[['853116\\t19621\\n', '853116\\t853155\\n', '853118\\t1140289\\n', '853155\\t853118\\n', '954315\\t1155073\\n']]\n"
     ]
    }
   ],
   "source": [
    "with open('../raw/cora/cora.cites') as f:\n",
    "    print([f.readlines()[-5:]])\n",
    "\n",
    "# with open('../raw/cora/cora.content') as f:\n",
    "#     print([f.readlines()[-1:]])"
   ]
  },
  {
   "cell_type": "code",
   "execution_count": 76,
   "metadata": {},
   "outputs": [],
   "source": [
    "with open(\"../raw/lasftm_asia/lastfm.edges\", \"w\") as o:\n",
    "    pass\n",
    "\n",
    "with open(\"../raw/lasftm_asia/lastfm.features\", \"w\") as o:\n",
    "    pass"
   ]
  },
  {
   "cell_type": "code",
   "execution_count": 77,
   "metadata": {},
   "outputs": [],
   "source": [
    "# create lastfm.edges \n",
    "\n",
    "with open(\"../raw/lasftm_asia/lastfm_asia_edges.csv\") as f:\n",
    "    with open(\"../raw/lasftm_asia/lastfm.edges\", \"a\") as w:\n",
    "        for line in f.readlines()[1:]:\n",
    "            line_split = line.split(\",\")\n",
    "            node1 = line_split[0]\n",
    "            node2 = line_split[1]\n",
    "            w.write(node1+\"\\t\"+node2)\n",
    "            # print([node1+\"\\t\"+node2])\n",
    "            # break"
   ]
  },
  {
   "cell_type": "code",
   "execution_count": 78,
   "metadata": {},
   "outputs": [],
   "source": [
    "# create lastfm.features\n",
    "nodes = set()\n",
    "node2tar = dict()\n",
    "\n",
    "with open(\"../raw/lasftm_asia/lastfm_asia_features.json\") as f: # open the feature matrix\n",
    "    data = json.load(f)\n",
    "with open(\"../raw/lasftm_asia/lastfm_asia_target.csv\") as f:\n",
    "    for line in f.readlines()[1:]:\n",
    "        node, tar = line.strip().split(\",\")\n",
    "        node2tar[int(node)] = int(tar)\n",
    "\n",
    "for k, v in data.items():\n",
    "    nodes.update(v)\n",
    "cols = len(nodes)\n",
    "features = np.zeros((len(data), cols+2), dtype=int) \n",
    "for k, v in data.items():\n",
    "    # features[int(k)][v] = 1\n",
    "    if len(v) > 0:\n",
    "        feat_add = np.array(v)+1\n",
    "        features[int(k)][0] = int(k)\n",
    "        features[int(k)][-1] = node2tar[int(k)]\n",
    "        features[int(k)][feat_add] = 1\n",
    "    \n",
    "features = features.astype(str)\n",
    "\n",
    "with open(\"../raw/lasftm_asia/lastfm.features\", \"a\") as o:\n",
    "    for i in range(len(features)):\n",
    "        feat_str = \"\\t\".join(features[i])+\"\\n\"\n",
    "        o.write(feat_str)"
   ]
  }
 ],
 "metadata": {
  "kernelspec": {
   "display_name": "base",
   "language": "python",
   "name": "python3"
  },
  "language_info": {
   "codemirror_mode": {
    "name": "ipython",
    "version": 3
   },
   "file_extension": ".py",
   "mimetype": "text/x-python",
   "name": "python",
   "nbconvert_exporter": "python",
   "pygments_lexer": "ipython3",
   "version": "3.9.12"
  },
  "vscode": {
   "interpreter": {
    "hash": "c343e2e87c5b0e07453627abb2abb5361d9550f1a72022c40db870995e6ad257"
   }
  }
 },
 "nbformat": 4,
 "nbformat_minor": 4
}
